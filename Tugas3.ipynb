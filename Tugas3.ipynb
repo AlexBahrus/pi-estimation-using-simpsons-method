{
 "cells": [
  {
   "cell_type": "markdown",
   "id": "2ddc6fe6-256b-499d-8f3c-3fa85e968511",
   "metadata": {},
   "source": [
    "**21120122140144**      \n",
    "**Metnum D**      "
   ]
  },
  {
   "cell_type": "code",
   "execution_count": 4,
   "id": "3b58af7c-889f-4b78-8428-f23f9a229266",
   "metadata": {},
   "outputs": [
    {
     "name": "stdout",
     "output_type": "stream",
     "text": [
      "N = 10\n",
      "Pi Reference = 3.141592653589793\n",
      "Pi Estimate = 3.141592613939215\n",
      "RMS Error = 3.9650577932093256e-08\n",
      "Execution Time = 0.0008540153503417969 seconds\n",
      "\n",
      "N = 100\n",
      "Pi Reference = 3.141592653589793\n",
      "Pi Estimate = 3.1415926535897536\n",
      "RMS Error = 3.952393967665557e-14\n",
      "Execution Time = 0.0 seconds\n",
      "\n",
      "N = 1000\n",
      "Pi Reference = 3.141592653589793\n",
      "Pi Estimate = 3.141592653589793\n",
      "RMS Error = 0.0\n",
      "Execution Time = 0.0 seconds\n",
      "\n",
      "N = 10000\n",
      "Pi Reference = 3.141592653589793\n",
      "Pi Estimate = 3.141592653589793\n",
      "RMS Error = 0.0\n",
      "Execution Time = 0.0019981861114501953 seconds\n",
      "\n"
     ]
    }
   ],
   "source": [
    "import numpy as np\n",
    "import time\n",
    "from scipy.integrate import simps\n",
    "\n",
    "def f(x):\n",
    "    return 4 / (1 + x**2)\n",
    "    \n",
    "pi_reference = 3.14159265358979323846\n",
    "\n",
    "N_values = [10, 100, 1000, 10000]\n",
    "\n",
    "results = []\n",
    "\n",
    "for N in N_values:\n",
    "    x = np.linspace(0, 1, N + 1)\n",
    "    y = f(x) \n",
    "    \n",
    "    start_time = time.time()\n",
    "    pi_estimate = simps(y, x)  \n",
    "    end_time = time.time()\n",
    "    \n",
    "    rms_error = np.sqrt(np.mean((pi_estimate - pi_reference)**2))\n",
    "    execution_time = end_time - start_time\n",
    "    \n",
    "    results.append((N, pi_estimate, rms_error, execution_time))\n",
    "\n",
    "for result in results:\n",
    "    N, pi_estimate, rms_error, execution_time = result\n",
    "    print(f\"N = {N}\")\n",
    "    print(f\"Pi Reference = {pi_reference}\")\n",
    "    print(f\"Pi Estimate = {pi_estimate}\")\n",
    "    print(f\"RMS Error = {rms_error}\")\n",
    "    print(f\"Execution Time = {execution_time} seconds\\n\")"
   ]
  }
 ],
 "metadata": {
  "kernelspec": {
   "display_name": "Python 3 (ipykernel)",
   "language": "python",
   "name": "python3"
  },
  "language_info": {
   "codemirror_mode": {
    "name": "ipython",
    "version": 3
   },
   "file_extension": ".py",
   "mimetype": "text/x-python",
   "name": "python",
   "nbconvert_exporter": "python",
   "pygments_lexer": "ipython3",
   "version": "3.11.7"
  }
 },
 "nbformat": 4,
 "nbformat_minor": 5
}
